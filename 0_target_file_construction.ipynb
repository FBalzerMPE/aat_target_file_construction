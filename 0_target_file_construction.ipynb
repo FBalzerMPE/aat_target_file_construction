{
 "cells": [
  {
   "attachments": {},
   "cell_type": "markdown",
   "metadata": {},
   "source": [
    "# Observational setup\n",
    "\n",
    "Here, we set up the observations of the eromapper cluster member galaxies at the AAT.\n",
    "\n",
    "For each observation (which corresponds to one cluster), we need to produce a single `.fdl` file in the correct format.\\\n",
    "This file needs to include:\n",
    "\n",
    "- The galaxies to observe (`members`) as the science targets (` = P`)\n",
    "- The guide stars (` = F`)\n",
    "- The sky fibres (` = S`),\n",
    "\n",
    "Where the letter needs to provided with the sources.\n",
    "\n",
    "## Preparation steps\n",
    "\n",
    "For each of the clusters, the set up needs to follow the same procedure, which we can adapt from the files by Jacob:\n",
    "\n",
    "- Select the members and calculate the central RA and DEC\n",
    "- Select the White Dwarfs needed for spectral calibration [adopted from `SelectWDs1.py`]\n",
    "- Generate the guide stars, initially taken from a region within 1 degree of centar RA and DEC [adopted from `Guidestargen1.py`].\\\n",
    "  These need to be filtered as well.\n",
    "- Generate the sky fibres for the region [adopted from `skyfibrefromJacobfile3.py`]\n",
    "\n",
    "### Adopted data structure\n",
    "\n",
    "Until the last step, we just use dictionaries as our data structures, where the data structures listed in parentheses are mapped to the `cluster_id` (int) for each cluster:\n",
    "- The `CLUSTER_INFO_DICT` (astropy table Row)\n",
    "- The `CENTER_POSITION_DICT` (tuple(float, float))\n",
    "- The `MEMBER_DICT` (astropy table)\n",
    "- The `WHITE_DWARF_DICT` (astropy table)\n",
    "- The `GUIDE_STAR_DICT` (astropy table)\n",
    "- The `SKY_FIBRE_DICT` (astropy table)\n",
    "  \n",
    "## REQUIREMENTS:\n",
    "\n",
    "For this script to work, the following packages need to be installed:\n",
    "- `astropy`\n",
    "- `astroquery`\n",
    "- Standard modules like `numpy`, `scipy` (for the matching algorithm of astropy), and `matplotlib`"
   ]
  },
  {
   "cell_type": "code",
   "execution_count": 281,
   "metadata": {},
   "outputs": [],
   "source": [
    "import numpy as np\n",
    "import matplotlib.pyplot as plt\n",
    "from astropy.table import Table\n",
    "import astropy.units as u\n",
    "from pathlib import Path\n",
    "from astropy.coordinates import SkyCoord\n",
    "import aat_clusters_scripts as acs\n",
    "\n",
    "\n",
    "ALL_MEMBERS = Table.read(acs.PATHS.members)\n",
    "CLUSTER_IDS = list(np.unique(ALL_MEMBERS[\"mem_match_id\"]))\n",
    "ALL_MEMBERS.add_index(\"mem_match_id\")\n",
    "\n",
    "ALL_CLUSTERS = Table.read(acs.PATHS.clusters)\n",
    "ALL_CLUSTERS.add_index(\"mem_match_id\")\n",
    "\n",
    "# Set up the main data structure as explained above:\n",
    "CLUSTER_INFO_DICT = {cluster_id: ALL_CLUSTERS.loc[cluster_id] for cluster_id in CLUSTER_IDS}\n",
    "CENTRE_POSITION_DICT = {cluster_id: CLUSTER_INFO_DICT[cluster_id][[\"ra_corr\", \"dec_corr\"]] for cluster_id in CLUSTER_IDS}"
   ]
  },
  {
   "attachments": {},
   "cell_type": "markdown",
   "metadata": {},
   "source": [
    "## Member selection\n",
    "\n",
    "In this step, we select the cluster members to observe and format the table to have the columns we need.\\\n",
    "We also perform the following filtering:\n",
    "- We discard all sources with $r\\text{\\_mag} < 17.5$ as they are too bright."
   ]
  },
  {
   "cell_type": "code",
   "execution_count": 69,
   "metadata": {},
   "outputs": [
    {
     "data": {
      "text/html": [
       "<div><i>Table length=3</i>\n",
       "<table id=\"table140519915972784\" class=\"table-striped table-bordered table-condensed\">\n",
       "<thead><tr><th>objid</th><th>ra_hms</th><th>dec_dms</th><th>obs_type</th><th>priority</th><th>mag_r</th><th>program_id</th><th>pm_ra</th><th>pm_dec</th><th>mem_match_id</th><th>ra</th><th>dec</th></tr></thead>\n",
       "<thead><tr><th>str27</th><th>str14</th><th>str14</th><th>str1</th><th>int64</th><th>float32</th><th>int64</th><th>int64</th><th>int64</th><th>int32</th><th>float64</th><th>float64</th></tr></thead>\n",
       "<tr><td>ero_member_2076118471409708</td><td>12 03 13.0.47</td><td>-21 29 28.0.43</td><td>P</td><td>9</td><td>18.697887</td><td>0</td><td>0</td><td>0</td><td>-2060224498</td><td>180.80611594001587</td><td>-21.4912293589975</td></tr>\n",
       "<tr><td>ero_member_2082921699607324</td><td>12 03 21.0.68</td><td>-21 38 09.0.56</td><td>P</td><td>9</td><td>18.386673</td><td>0</td><td>0</td><td>0</td><td>-2060224498</td><td>180.84033329340832</td><td>-21.635989167716435</td></tr>\n",
       "<tr><td>ero_member_2082921699609675</td><td>12 03 45.0.35</td><td>-21 39 58.0.72</td><td>P</td><td>9</td><td>19.626753</td><td>0</td><td>0</td><td>0</td><td>-2060224498</td><td>180.93895607843925</td><td>-21.666310433307263</td></tr>\n",
       "</table></div>"
      ],
      "text/plain": [
       "<Table length=3>\n",
       "           objid                ra_hms    ...         dec        \n",
       "           str27                str14     ...       float64      \n",
       "--------------------------- ------------- ... -------------------\n",
       "ero_member_2076118471409708 12 03 13.0.47 ...   -21.4912293589975\n",
       "ero_member_2082921699607324 12 03 21.0.68 ... -21.635989167716435\n",
       "ero_member_2082921699609675 12 03 45.0.35 ... -21.666310433307263"
      ]
     },
     "execution_count": 69,
     "metadata": {},
     "output_type": "execute_result"
    }
   ],
   "source": [
    "def add_information_to_member_table(member_table: Table) -> Table:\n",
    "    \"\"\"Retrieve the vital information for all members associated with this cluster id\"\"\"\n",
    "    member_table[\"objid\"] = [f\"ero_member_{member['id']}\" for member in member_table]\n",
    "    hms_dms = np.array([hf.convert_radec_to_hmsdms(member[\"ra\"], member[\"dec\"], delimiter=\" \", precision=2) for member in member_table])\n",
    "    member_table[\"ra_hms\"] = hms_dms[:, 0]\n",
    "    member_table[\"dec_dms\"] = hms_dms[:, 1]\n",
    "    member_table[\"obs_type\"] = \"P\"  # [P = 'Science targets', F = 'Guide stars', S = 'Sky fibres']\n",
    "    member_table[\"priority\"] = 9\n",
    "    # The magnitudes are given as triplets in the [mag] column (as grz), so we select the middle one:\n",
    "    member_table[\"mag_r\"] = member_table[\"mag\"][:, 1]\n",
    "    # The program ID does not matter for us:\n",
    "    member_table[\"program_id\"] = 0\n",
    "    # Since we're observing galaxies, their proper motions are 0:\n",
    "    member_table[\"pm_ra\"] = 0\n",
    "    member_table[\"pm_dec\"] = 0\n",
    "    relevant_cols = [\"objid\", \"ra_hms\", \"dec_dms\", \"obs_type\", \"priority\", \"mag_r\", \"program_id\", \"pm_ra\", \"pm_dec\", \"mem_match_id\", \"ra\", \"dec\"]\n",
    "    return member_table[relevant_cols]\n",
    "\n",
    "CLEAN_MEMBERS = add_information_to_member_table(ALL_MEMBERS)\n",
    "CLEAN_MEMBERS.add_index(\"mem_match_id\")\n",
    "CLEAN_MEMBERS[:3]"
   ]
  },
  {
   "attachments": {},
   "cell_type": "markdown",
   "metadata": {},
   "source": [
    "## White Dwarf selection\n",
    "\n",
    "We want to observe some White Dwarfs to calibrate our spectra.\n",
    "\n",
    "The White Dwarf catalogue has been obtained from the Gaia EDR3 ([download link](https://warwick.ac.uk/fac/sci/physics/research/astro/research/catalogues/gaiaedr3_wd_main.fits.gz)), described Gentile Fusillo et al. 2021 (see [here](https://arxiv.org/pdf/2106.07669.pdf) for the pdf).\n",
    "\n",
    "For the selection, we follow the procedure adopted in `SelectWD1.py` with an additional restriction:\n",
    "- We select all white dwarfs within a radius of `1 deg` of the central ra and dec for each cluster.\n",
    "- Also, we require `RPmag`, `pmra` und `pmdec` to exist (although this seems to be ok for all sources)."
   ]
  },
  {
   "cell_type": "code",
   "execution_count": 238,
   "metadata": {},
   "outputs": [],
   "source": []
  },
  {
   "cell_type": "code",
   "execution_count": 240,
   "metadata": {},
   "outputs": [
    {
     "name": "stdout",
     "output_type": "stream",
     "text": [
      "-2060224498:\t30 white dwarfs in region\n",
      "-2060224498:\t30 white dwarfs with available rmag and proper motion data\n",
      "0\n",
      "-1855905442:\t28 white dwarfs in region\n",
      "-1855905442:\t28 white dwarfs with available rmag and proper motion data\n",
      "2\n",
      "-879663103:\t24 white dwarfs in region\n",
      "-879663103:\t24 white dwarfs with available rmag and proper motion data\n",
      "0\n"
     ]
    }
   ],
   "source": [
    "\n",
    "\n",
    "WHITE_DWARF_DICT = {}\n",
    "for cluster_id in CLUSTER_IDS:\n",
    "    ra, dec = CENTRE_POSITION_DICT[cluster_id]\n",
    "    wd_selection = hf.get_objects_in_circular_region(ALL_WHITE_DWARFS, ra, dec)\n",
    "    print(f\"{cluster_id}:\\t{len(wd_selection)} white dwarfs in region\")\n",
    "    relevant_cols = [\"WDJ_name\", \"source_id\", \"ra\", \"dec\", \"RPmag\", \"pmra\", \"pmdec\"]\n",
    "    wd_selection = wd_selection[relevant_cols]\n",
    "    wd_selection = hf.filter_for_existing_cols(wd_selection)\n",
    "    print(f\"{cluster_id}:\\t{len(wd_selection)} white dwarfs with available rmag and proper motion data\")\n",
    "\n",
    "    WHITE_DWARF_DICT[cluster_id] = wd_selection\n",
    "    print(\n",
    "np.sum(wd_selection[\"RPmag\"] < 17.5))\n",
    "# COMMENT: We seem to be lacking WDs with rmag data for the first two clusters!\n",
    "# CORRECTION to comment: Apparently we need to use RPmag and not rmag!\n",
    "# NOTE: Ask mara about the difference!"
   ]
  },
  {
   "attachments": {},
   "cell_type": "markdown",
   "metadata": {},
   "source": [
    "## Select the guide stars\n"
   ]
  },
  {
   "attachments": {},
   "cell_type": "markdown",
   "metadata": {},
   "source": [
    "We follow the procedure in `Guidestargen1.py`:\n",
    "\n",
    "- First, we obtain objects in range of the cluster from SIMBAD.\n",
    "- Then, all guide stars without `pmra`, `pmdec` or `rmag` values are removed.\n",
    "- All sources too dim, too bright, or with a high proper motion are removed, corresponding to the following criteria:\n",
    "  - $12 < r \\text{\\_mag} < 14$\n",
    "  - $pm < 20$, where $pm:=\\sqrt{(0.3977 pm_\\text{ra})^2+pm_\\text{dec}^2}$\n",
    "- Then, it is made sure that the type of the sources is stellar.\n",
    "- Finally, the sources are sorted by their r magnitude."
   ]
  },
  {
   "cell_type": "code",
   "execution_count": 261,
   "metadata": {},
   "outputs": [],
   "source": [
    "GUIDE_R_MAX = 14\n",
    "GUIDE_R_MIN = 12\n",
    "GUIDE_PM_MAX = 20  # ! Jacob has differed his values here, talk with Mara"
   ]
  },
  {
   "attachments": {},
   "cell_type": "markdown",
   "metadata": {},
   "source": [
    "### Query the Simbad database\n",
    "\n",
    "The following code could also manually be done by performing a coordinate query [on the Simbad site](http://simbad.cds.unistra.fr/simbad/sim-fcoo), but the use of astroquery seems to be more convenient (I have briefly tested it, it yields the same results).\\\n",
    "We adopt a search radius of `1 degree` around the centre of each observation."
   ]
  },
  {
   "cell_type": "code",
   "execution_count": 263,
   "metadata": {},
   "outputs": [
    {
     "name": "stdout",
     "output_type": "stream",
     "text": [
      "len(simbad_sources) = 600\n",
      "len(with_flux) = 282\n",
      "len(with_flux[mask]) = 193\n"
     ]
    }
   ],
   "source": [
    "from astroquery.simbad import Simbad\n",
    "\n",
    "def _sanitize_simbad_table(table: Table) -> Table:\n",
    "    # Sanitize the table by lowercasing colnames and turning ra and dec to degrees\n",
    "    table.rename_columns(cols := table.colnames, [col.lower() for col in cols])\n",
    "    sky_coords = SkyCoord(simbad_sources[\"ra\"], simbad_sources[\"dec\"], unit=(u.hourangle, u.deg))\n",
    "    table[\"ra\"] = sky_coords.ra\n",
    "    table[\"dec\"] = sky_coords.dec\n",
    "    table.rename_column(\"flux_r\", \"rmag\")\n",
    "    return table\n",
    "\n",
    "\n",
    "def retrieve_simbad_table(ra: float, dec: float, radius: float = 1) -> Table:\n",
    "    \"\"\"Retrieve the simbad sources around the given central `ra` and `dec` within\n",
    "    the provided `radius` (in deg).\"\"\"\n",
    "    custom_simbad = Simbad()\n",
    "    print(custom_simbad.get_votable_fields())\n",
    "    custom_simbad.add_votable_fields(\"fluxdata(R)\", \"pmra\", \"pmdec\")\n",
    "    sources = custom_simbad.query_region(SkyCoord(ra, dec, unit=\"deg\"), radius=radius*u.deg)\n",
    "    return _sanitize_simbad_table(sources)\n",
    "\n",
    "def calc_pm_tot(pmra: float, pmdec: float) -> float:\n",
    "    \"\"\"Calculate the total proper motion of a given source according to Jacob's formula\"\"\"\n",
    "    return np.sqrt((0.3977 * pmra)**2 + pmdec**2)\n",
    "    \n",
    "\n",
    "ra, dec = CENTRE_POSITION_DICT[CLUSTER_IDS[1]][0], CENTRE_POSITION_DICT[CLUSTER_IDS[1]][1]\n",
    "# simbad_sources = retrieve_simbad_table(ra, dec)\n",
    "with_flux = hf.filter_for_existing_cols(simbad_sources, (\"rmag\", \"pmra\", \"pmdec\"))\n",
    "with_flux[\"pm_tot\"] = calc_pm_tot(with_flux[\"pmra\"], with_flux[\"pmdec\"])\n",
    "mask = with_flux[\"rmag\"] <= GUIDE_R_MAX\n",
    "mask &= with_flux[\"rmag\"] >= GUIDE_R_MIN\n",
    "mask &= with_flux[\"pm_tot\"] <= GUIDE_PM_MAX\n",
    "print(f\"{len(simbad_sources) = }\\n{len(with_flux) = }\\n{len(with_flux[mask]) = }\")"
   ]
  },
  {
   "attachments": {},
   "cell_type": "markdown",
   "metadata": {},
   "source": [
    "## Select the sky fibres\n",
    "\n",
    "The "
   ]
  },
  {
   "cell_type": "code",
   "execution_count": 278,
   "metadata": {},
   "outputs": [
    {
     "data": {
      "text/plain": [
       "Text(0.5, 1.0, 'Sky fibres in relation to the clusters')"
      ]
     },
     "execution_count": 278,
     "metadata": {},
     "output_type": "execute_result"
    },
    {
     "data": {
      "image/png": "[encoded data removed]",
      "text/plain": [
       "<Figure size 640x480 with 1 Axes>"
      ]
     },
     "metadata": {},
     "output_type": "display_data"
    }
   ],
   "source": [
    "\n",
    "def _sanitize_fibre_table(table: Table) -> Table:\n",
    "    # Sanitize the table by lowercasing colnames and turning ra and dec to degrees\n",
    "    table.rename_columns(cols := table.colnames, [col.lower() for col in cols])\n",
    "    sky_coords = SkyCoord(table[\"ra\"], table[\"dec\"], unit=\"deg\")\n",
    "    table[\"ra\"] = sky_coords.ra\n",
    "    table[\"dec\"] = sky_coords.dec\n",
    "    return table\n",
    "\n",
    "\n",
    "ALL_FIBRES = _sanitize_fibre_table(PATHS.read_table(PATHS.sky_fibres))\n",
    "hf.get_objects_in_circular_region(ALL_FIBRES, ra, dec)\n",
    "fig, ax = plt.subplots()\n",
    "ax.scatter(ALL_FIBRES[\"ra\"], ALL_FIBRES[\"dec\"], label=\"sky fibres\")\n",
    "for cluster_id in CLUSTER_IDS:\n",
    "    ra, dec = CENTRE_POSITION_DICT[cluster_id]\n",
    "    ax.scatter(ra, dec, label=f\"cluster {cluster_id}\")\n",
    "ax.set_xlabel(\"RA\")\n",
    "ax.set_ylabel(\"DEC\")\n",
    "ax.invert_xaxis()\n",
    "ax.legend()\n",
    "ax.set_title(\"Sky fibres in relation to the clusters\")"
   ]
  },
  {
   "cell_type": "code",
   "execution_count": 3,
   "metadata": {},
   "outputs": [],
   "source": [
    "# Copied file header:\n",
    "LABEL = \"eromapper cluster follow-up\"\n",
    "UTDATE = \"2023 02 19\"\n",
    "CENTRE = \"CENTER_STRING\"\n",
    "FILE_HEADER = f\"\"\"\n",
    "LABEL {LABEL}\n",
    "UTDATE {UTDATE}\n",
    "CENTRE {CENTRE}\n",
    "EQUINOX J2000\n",
    "WLEN1 6000\n",
    "PROPER_MOTIONS\n",
    "\"\"\""
   ]
  },
  {
   "cell_type": "code",
   "execution_count": 4,
   "metadata": {},
   "outputs": [],
   "source": [
    "COMMENT = \"\"\"\n",
    "#                       R. Ascention    Declination             Prog    Proper Motion           Comments\n",
    "# Name                  hh  mm ss.sss   dd  mm ss.sss                   mag     ID      ra              dec \n",
    "# \"\"\""
   ]
  },
  {
   "cell_type": "code",
   "execution_count": 5,
   "metadata": {},
   "outputs": [],
   "source": [
    "\n",
    "fname = Path(\"./data/observation_setup/target_selection.fdl\")\n",
    "ALL_MEMBERS[relevant_cols].write(fname, format=\"ascii\", overwrite=True)"
   ]
  }
 ],
 "metadata": {
  "kernelspec": {
   "display_name": "VERFU",
   "language": "python",
   "name": "python3"
  },
  "language_info": {
   "codemirror_mode": {
    "name": "ipython",
    "version": 3
   },
   "file_extension": ".py",
   "mimetype": "text/x-python",
   "name": "python",
   "nbconvert_exporter": "python",
   "pygments_lexer": "ipython3",
   "version": "3.9.13"
  },
  "orig_nbformat": 4,
  "vscode": {
   "interpreter": {
    "hash": "62543e5a7fd70dfc5612443e06a5ad59a01ebe36c5af44bbafc168d4c439e911"
   }
  }
 },
 "nbformat": 4,
 "nbformat_minor": 2
}
